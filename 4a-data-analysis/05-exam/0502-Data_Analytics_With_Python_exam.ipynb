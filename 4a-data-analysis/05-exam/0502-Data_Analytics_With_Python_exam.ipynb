{
 "cells": [
  {
   "cell_type": "markdown",
   "metadata": {},
   "source": [
    "# 0502 Data Analytics with Python - Practical Exam - 2/2"
   ]
  },
  {
   "cell_type": "markdown",
   "metadata": {},
   "source": [
    "* Written by Alexandre Gazagnes\n",
    "* Last update: 2024-02-01"
   ]
  },
  {
   "cell_type": "markdown",
   "metadata": {},
   "source": [
    "## Student Identification"
   ]
  },
  {
   "cell_type": "markdown",
   "metadata": {},
   "source": [
    "### Firstname : "
   ]
  },
  {
   "cell_type": "markdown",
   "metadata": {},
   "source": [
    "⚠️ **WRITE YOUR FIRSTAME HERE**"
   ]
  },
  {
   "cell_type": "markdown",
   "metadata": {},
   "source": [
    "### Lastname : "
   ]
  },
  {
   "cell_type": "markdown",
   "metadata": {},
   "source": [
    "⚠️ **WRITE YOUR LASTNAME HERE**"
   ]
  },
  {
   "cell_type": "markdown",
   "metadata": {},
   "source": [
    "## About "
   ]
  },
  {
   "cell_type": "markdown",
   "metadata": {},
   "source": [
    "Context : \n",
    "\n",
    "* **Congratulations!** You are the **new employee** of \"Flower Inc\", a **major flower import/export company**. \n",
    "\n",
    "\n",
    "* You're the new **Junior Project Manager** for the **domestic flower segment**, and we're currently working on the **creation of new ibrid iris flowers**.\n",
    "\n",
    "\n",
    "* As you know, we think this is a **very promising market**, and we have high expectations of your work.\n",
    "\n",
    "\n",
    "* We're currently in the preliminary study phase, **analyzing the data received by our R&D department**.\n",
    "\n",
    "\n",
    "* The data arrived last week and the **exploratory analysis has already begun**. This work was started by our intern Alexandre Gazagnes. \n",
    "\n",
    "\n",
    "* Unfortunately, Alexandre Gazagnes suffered a quadruple fracture of his right leg when he stepped off the bus last week. Although he's doing well, **he won't be able to come to work for at least 3 weeks**. \n",
    "\n",
    "\n",
    "* He had left **his updated analysis notebook** on the company server, but I am 96% sure that the **backup went wrong and that some code cells have jumped**. \n",
    "\n",
    "\n",
    "* Can you **take over to his notebook, add the missing lines of code and add any comments you think are appropriate**? \n",
    "\n",
    "* In order to help you, **I have added some specific comments in the notebook to help you finding where you have to add some code / comments.**\n",
    "\n",
    "\n",
    "* We're counting on you! "
   ]
  },
  {
   "cell_type": "markdown",
   "metadata": {},
   "source": [
    "Data  : \n",
    "\n",
    "**You can find the dataset [here](https://gist.githubusercontent.com/AlexandreGazagnes/cb63600b7a6a71b5f7b714bfe7540137/raw/cc8563822e19b196aebe0a52c9f74598888d9c29/iris_exam.csv).**"
   ]
  },
  {
   "cell_type": "markdown",
   "metadata": {},
   "source": [
    "Good to know : "
   ]
  },
  {
   "cell_type": "markdown",
   "metadata": {},
   "source": [
    "You will have to write both python code or markdown (regular text) comments.\n",
    "\n",
    "You will find cells for python code : "
   ]
  },
  {
   "cell_type": "code",
   "execution_count": null,
   "metadata": {},
   "outputs": [],
   "source": [
    "###################################\n",
    "# ADD SOME CODE HERE\n",
    "###################################\n",
    "\n"
   ]
  },
  {
   "cell_type": "markdown",
   "metadata": {},
   "source": [
    "And you will find cells for markdown (regular text) comments : "
   ]
  },
  {
   "cell_type": "markdown",
   "metadata": {},
   "source": [
    "\n",
    "**==> ⚠️ ADD SOME COMMENTS HERE ⚠️ <==**\n",
    "\n"
   ]
  },
  {
   "cell_type": "markdown",
   "metadata": {},
   "source": [
    "Mission :\n",
    "\n",
    "* Just go threw the notebook slowly\n",
    "* Fill the empty code cells and the empty comment cells\n"
   ]
  },
  {
   "cell_type": "markdown",
   "metadata": {},
   "source": [
    "## Preliminaries"
   ]
  },
  {
   "cell_type": "markdown",
   "metadata": {},
   "source": [
    "Please uncomment and run these commands if needed (install the required packages)"
   ]
  },
  {
   "cell_type": "code",
   "execution_count": null,
   "metadata": {},
   "outputs": [],
   "source": [
    "# !pip install pandas matplotlib seaborn plotly scikit-learn"
   ]
  },
  {
   "cell_type": "markdown",
   "metadata": {},
   "source": [
    "Please uncomment and run the following lines if needed (to download the dataset) "
   ]
  },
  {
   "cell_type": "code",
   "execution_count": null,
   "metadata": {},
   "outputs": [],
   "source": [
    "# !wget https://gist.githubusercontent.com/AlexandreGazagnes/cb63600b7a6a71b5f7b714bfe7540137/raw/cc8563822e19b196aebe0a52c9f74598888d9c29/iris_exam.csv"
   ]
  },
  {
   "cell_type": "markdown",
   "metadata": {},
   "source": [
    "### Import "
   ]
  },
  {
   "cell_type": "markdown",
   "metadata": {},
   "source": [
    "Import data libraries:"
   ]
  },
  {
   "cell_type": "code",
   "execution_count": null,
   "metadata": {},
   "outputs": [],
   "source": [
    "import pandas as pd\n",
    "import numpy as np"
   ]
  },
  {
   "cell_type": "markdown",
   "metadata": {},
   "source": [
    "Import Graphical libraries:"
   ]
  },
  {
   "cell_type": "code",
   "execution_count": null,
   "metadata": {},
   "outputs": [],
   "source": [
    "import matplotlib.pyplot as plt\n",
    "import seaborn as sns\n",
    "import plotly.express as px"
   ]
  },
  {
   "cell_type": "markdown",
   "metadata": {},
   "source": [
    "Import Machine Learning libraries:"
   ]
  },
  {
   "cell_type": "code",
   "execution_count": null,
   "metadata": {},
   "outputs": [],
   "source": [
    "# must to have (mandarory)\n",
    "from sklearn.preprocessing import StandardScaler\n",
    "from sklearn.decomposition import PCA\n",
    "from sklearn.cluster import KMeans"
   ]
  },
  {
   "cell_type": "markdown",
   "metadata": {},
   "source": [
    "### Get the data"
   ]
  },
  {
   "cell_type": "markdown",
   "metadata": {},
   "source": [
    "1st option : Download the dataset from the web"
   ]
  },
  {
   "cell_type": "code",
   "execution_count": null,
   "metadata": {},
   "outputs": [],
   "source": [
    "url = \"https://gist.githubusercontent.com/AlexandreGazagnes/cb63600b7a6a71b5f7b714bfe7540137/raw/cc8563822e19b196aebe0a52c9f74598888d9c29/iris_exam.csv\"\n",
    "df = pd.read_csv(url)\n",
    "df.head()"
   ]
  },
  {
   "cell_type": "markdown",
   "metadata": {},
   "source": [
    "2nd Option : Read data from a file"
   ]
  },
  {
   "cell_type": "code",
   "execution_count": null,
   "metadata": {},
   "outputs": [],
   "source": [
    "# or\n",
    "\n",
    "# fn = \"./iris_exam.csv\"\n",
    "# df = pd.read_csv(fn)\n",
    "# df.head()"
   ]
  },
  {
   "cell_type": "markdown",
   "metadata": {},
   "source": [
    "# First Tour"
   ]
  },
  {
   "cell_type": "markdown",
   "metadata": {},
   "source": [
    "Print out the first rows of the dataset"
   ]
  },
  {
   "cell_type": "code",
   "execution_count": null,
   "metadata": {},
   "outputs": [],
   "source": [
    "df.head()"
   ]
  },
  {
   "cell_type": "markdown",
   "metadata": {},
   "source": [
    "Print out the last rows of the dataset"
   ]
  },
  {
   "cell_type": "code",
   "execution_count": null,
   "metadata": {},
   "outputs": [],
   "source": [
    "df.tail()"
   ]
  },
  {
   "cell_type": "markdown",
   "metadata": {},
   "source": [
    "Print out 10 random lines of the data set"
   ]
  },
  {
   "cell_type": "code",
   "execution_count": null,
   "metadata": {},
   "outputs": [],
   "source": [
    "###################################\n",
    "# ADD SOME CODE HERE\n",
    "###################################\n",
    "\n"
   ]
  },
  {
   "cell_type": "markdown",
   "metadata": {},
   "source": [
    "Global information about the dataframe"
   ]
  },
  {
   "cell_type": "code",
   "execution_count": null,
   "metadata": {},
   "outputs": [],
   "source": [
    "df.info()"
   ]
  },
  {
   "cell_type": "markdown",
   "metadata": {},
   "source": [
    "List of data types for each column"
   ]
  },
  {
   "cell_type": "code",
   "execution_count": null,
   "metadata": {},
   "outputs": [],
   "source": [
    "df.dtypes"
   ]
  },
  {
   "cell_type": "markdown",
   "metadata": {},
   "source": [
    "The shape of our dataframe"
   ]
  },
  {
   "cell_type": "code",
   "execution_count": null,
   "metadata": {},
   "outputs": [],
   "source": [
    "###################################\n",
    "# ADD SOME CODE HERE\n",
    "###################################\n",
    "\n"
   ]
  },
  {
   "cell_type": "markdown",
   "metadata": {},
   "source": [
    "Compute all missing values for each column"
   ]
  },
  {
   "cell_type": "code",
   "execution_count": null,
   "metadata": {},
   "outputs": [],
   "source": [
    "###################################\n",
    "# ADD SOME CODE HERE\n",
    "###################################\n",
    "\n"
   ]
  },
  {
   "cell_type": "markdown",
   "metadata": {},
   "source": [
    "Do we have some missing values ? If so how many, and what should we do ?"
   ]
  },
  {
   "cell_type": "markdown",
   "metadata": {},
   "source": [
    "**==> ⚠️ ADD SOME COMMENTS HERE ⚠️ <==**"
   ]
  },
  {
   "cell_type": "markdown",
   "metadata": {},
   "source": [
    "Compute mean, std, median, min, max etc "
   ]
  },
  {
   "cell_type": "code",
   "execution_count": null,
   "metadata": {},
   "outputs": [],
   "source": [
    "###################################\n",
    "# ADD SOME CODE HERE\n",
    "###################################\n",
    "\n"
   ]
  },
  {
   "cell_type": "markdown",
   "metadata": {},
   "source": [
    "Compute the number of unique values for each column"
   ]
  },
  {
   "cell_type": "code",
   "execution_count": null,
   "metadata": {},
   "outputs": [],
   "source": [
    "###################################\n",
    "# ADD SOME CODE HERE\n",
    "###################################\n",
    "\n"
   ]
  },
  {
   "cell_type": "markdown",
   "metadata": {},
   "source": [
    "Keep in mind the shape of our data set"
   ]
  },
  {
   "cell_type": "code",
   "execution_count": null,
   "metadata": {},
   "outputs": [],
   "source": [
    "df.shape"
   ]
  },
  {
   "cell_type": "markdown",
   "metadata": {},
   "source": [
    "Let's plot the correlation matrix"
   ]
  },
  {
   "cell_type": "code",
   "execution_count": null,
   "metadata": {},
   "outputs": [],
   "source": [
    "def make_corr_heatmap(df):\n",
    "    corr = df.select_dtypes(include=\"number\").corr()\n",
    "    mask = np.triu(corr)\n",
    "    sns.heatmap(\n",
    "        corr, annot=True, cmap=\"coolwarm\", fmt=\".2f\", vmin=-1, vmax=1, mask=mask\n",
    "    )"
   ]
  },
  {
   "cell_type": "code",
   "execution_count": null,
   "metadata": {},
   "outputs": [],
   "source": [
    "make_corr_heatmap(df)"
   ]
  },
  {
   "cell_type": "markdown",
   "metadata": {},
   "source": [
    "What is your conclusion?"
   ]
  },
  {
   "cell_type": "markdown",
   "metadata": {},
   "source": [
    "**==> ⚠️ ADD SOME COMMENTS HERE ⚠️ <==**"
   ]
  },
  {
   "cell_type": "markdown",
   "metadata": {},
   "source": [
    "Let's display the pair plot visualisation for numerical features"
   ]
  },
  {
   "cell_type": "code",
   "execution_count": null,
   "metadata": {},
   "outputs": [],
   "source": [
    "sns.pairplot(df, corner=True)"
   ]
  },
  {
   "cell_type": "markdown",
   "metadata": {},
   "source": [
    "Without any statistical analysis, what can you say about the data?\n",
    "Regarding the pair plot, how many clusters do we have ? "
   ]
  },
  {
   "cell_type": "markdown",
   "metadata": {},
   "source": [
    "**==> ⚠️ ADD SOME COMMENTS HERE ⚠️ <==**"
   ]
  },
  {
   "cell_type": "markdown",
   "metadata": {},
   "source": [
    "Let's do the same but with the hue parameter (the true value of each flower's species)"
   ]
  },
  {
   "cell_type": "code",
   "execution_count": null,
   "metadata": {},
   "outputs": [],
   "source": [
    "sns.pairplot(df, hue=\"Species\", corner=True)"
   ]
  },
  {
   "cell_type": "markdown",
   "metadata": {},
   "source": [
    "## Cleaning and Preparation"
   ]
  },
  {
   "cell_type": "markdown",
   "metadata": {},
   "source": [
    "Keep in mind the number of missing values "
   ]
  },
  {
   "cell_type": "code",
   "execution_count": null,
   "metadata": {},
   "outputs": [],
   "source": [
    "df.isna().sum()"
   ]
  },
  {
   "cell_type": "markdown",
   "metadata": {},
   "source": [
    "We need to fill the missing values for the column \"sepal lenght\" with the median value.\n",
    "\n",
    "Filling missing values with  the mean could be another option, but you know why it is not the best one ;)\n",
    "\n",
    "\n",
    "So, Let's compute the median value :"
   ]
  },
  {
   "cell_type": "code",
   "execution_count": null,
   "metadata": {},
   "outputs": [],
   "source": [
    "###################################\n",
    "# ADD SOME CODE HERE\n",
    "###################################\n",
    "\n",
    "\n",
    "_median"
   ]
  },
  {
   "cell_type": "markdown",
   "metadata": {},
   "source": [
    "We can then fill the missing values with the median value"
   ]
  },
  {
   "cell_type": "code",
   "execution_count": null,
   "metadata": {},
   "outputs": [],
   "source": [
    "df[\"SepalLengthCm\"] = df[\"SepalLengthCm\"].fillna(_median)"
   ]
  },
  {
   "cell_type": "markdown",
   "metadata": {},
   "source": [
    "Let's check if the problem is solved"
   ]
  },
  {
   "cell_type": "code",
   "execution_count": null,
   "metadata": {},
   "outputs": [],
   "source": [
    "df.isna().sum()"
   ]
  },
  {
   "cell_type": "markdown",
   "metadata": {},
   "source": [
    "Keep in mind our data numerical description : "
   ]
  },
  {
   "cell_type": "code",
   "execution_count": null,
   "metadata": {},
   "outputs": [],
   "source": [
    "df.describe().round(2)"
   ]
  },
  {
   "cell_type": "markdown",
   "metadata": {},
   "source": [
    "Do you think we have outliers in our data frame ? \n",
    "If so, what is the column concerned, and what value seems to be an outlier ?"
   ]
  },
  {
   "cell_type": "markdown",
   "metadata": {},
   "source": [
    "**==> ⚠️ ADD SOME COMMENTS HERE ⚠️ <==**"
   ]
  },
  {
   "cell_type": "markdown",
   "metadata": {},
   "source": [
    "Let's select the specific line"
   ]
  },
  {
   "cell_type": "code",
   "execution_count": null,
   "metadata": {},
   "outputs": [],
   "source": [
    "df.loc[df.PetalWidthCm > 10, :]"
   ]
  },
  {
   "cell_type": "markdown",
   "metadata": {},
   "source": [
    "Compute the median of the column \"petal width\""
   ]
  },
  {
   "cell_type": "code",
   "execution_count": null,
   "metadata": {},
   "outputs": [],
   "source": [
    "###################################\n",
    "# ADD SOME CODE HERE\n",
    "###################################\n",
    "\n",
    "\n",
    "_median"
   ]
  },
  {
   "cell_type": "markdown",
   "metadata": {},
   "source": [
    "Let's change the outlier value "
   ]
  },
  {
   "cell_type": "code",
   "execution_count": null,
   "metadata": {},
   "outputs": [],
   "source": [
    "df.loc[df.PetalWidthCm > 10, \"PetalWidthCm\"] = _median"
   ]
  },
  {
   "cell_type": "markdown",
   "metadata": {},
   "source": [
    "The problem is solved, let's check it"
   ]
  },
  {
   "cell_type": "code",
   "execution_count": null,
   "metadata": {},
   "outputs": [],
   "source": [
    "df.describe().round(2)"
   ]
  },
  {
   "cell_type": "markdown",
   "metadata": {},
   "source": [
    "Keep in mind our data types"
   ]
  },
  {
   "cell_type": "code",
   "execution_count": null,
   "metadata": {},
   "outputs": [],
   "source": [
    "df.dtypes"
   ]
  },
  {
   "cell_type": "markdown",
   "metadata": {},
   "source": [
    "Keep in mind our number of unique values per column: "
   ]
  },
  {
   "cell_type": "code",
   "execution_count": null,
   "metadata": {},
   "outputs": [],
   "source": [
    "###################################\n",
    "# ADD SOME CODE HERE\n",
    "###################################\n",
    "\n"
   ]
  },
  {
   "cell_type": "markdown",
   "metadata": {},
   "source": [
    "Do you think we have useless columns in our data frame ?\n",
    "What are theses columns and why ?"
   ]
  },
  {
   "cell_type": "markdown",
   "metadata": {},
   "source": [
    "**==> ⚠️ ADD SOME COMMENTS HERE ⚠️ <==**"
   ]
  },
  {
   "cell_type": "markdown",
   "metadata": {},
   "source": [
    "Even if \"Species\" is a special column, we need to keep this one. "
   ]
  },
  {
   "cell_type": "markdown",
   "metadata": {},
   "source": [
    "Please drop the useless columns"
   ]
  },
  {
   "cell_type": "code",
   "execution_count": null,
   "metadata": {},
   "outputs": [],
   "source": [
    "###################################\n",
    "# ADD SOME CODE HERE\n",
    "###################################\n",
    "\n",
    "\n",
    "df"
   ]
  },
  {
   "cell_type": "markdown",
   "metadata": {},
   "source": [
    "Good, now we need to create our X matrix."
   ]
  },
  {
   "cell_type": "markdown",
   "metadata": {},
   "source": [
    "X will be the data frame without the column \"Species\", or even better, our data frame vbut only with numerical columns"
   ]
  },
  {
   "cell_type": "code",
   "execution_count": null,
   "metadata": {},
   "outputs": [],
   "source": [
    "###################################\n",
    "# ADD SOME CODE HERE\n",
    "###################################\n",
    "\n",
    "X"
   ]
  },
  {
   "cell_type": "markdown",
   "metadata": {},
   "source": [
    "Perfect ! \n",
    "\n",
    "Last but not least we need to scale our X matrix"
   ]
  },
  {
   "cell_type": "code",
   "execution_count": null,
   "metadata": {},
   "outputs": [],
   "source": [
    "###################################\n",
    "# ADD SOME CODE HERE\n",
    "###################################\n",
    "\n",
    "X_scaled"
   ]
  },
  {
   "cell_type": "markdown",
   "metadata": {},
   "source": [
    "Just to be sure, let's print out the mean and std of our X matrix"
   ]
  },
  {
   "cell_type": "code",
   "execution_count": null,
   "metadata": {},
   "outputs": [],
   "source": [
    "X_scaled.describe().round(2)"
   ]
  },
  {
   "cell_type": "markdown",
   "metadata": {},
   "source": [
    "# PCA"
   ]
  },
  {
   "cell_type": "markdown",
   "metadata": {},
   "source": [
    "Instantiate the PCA object with ```n_components=4```"
   ]
  },
  {
   "cell_type": "code",
   "execution_count": null,
   "metadata": {},
   "outputs": [],
   "source": [
    "###################################\n",
    "# ADD SOME CODE HERE\n",
    "###################################\n",
    "\n",
    "pca"
   ]
  },
  {
   "cell_type": "markdown",
   "metadata": {},
   "source": [
    "Fit the pca with X_scaled"
   ]
  },
  {
   "cell_type": "code",
   "execution_count": null,
   "metadata": {},
   "outputs": [],
   "source": [
    "###################################\n",
    "# ADD SOME CODE HERE\n",
    "###################################\n",
    "\n",
    "pca"
   ]
  },
  {
   "cell_type": "markdown",
   "metadata": {},
   "source": [
    "Compute X_projected"
   ]
  },
  {
   "cell_type": "code",
   "execution_count": null,
   "metadata": {},
   "outputs": [],
   "source": [
    "###################################\n",
    "# ADD SOME CODE HERE\n",
    "###################################\n",
    "\n",
    "X_proj"
   ]
  },
  {
   "cell_type": "markdown",
   "metadata": {},
   "source": [
    "Rebuild a dtaaframe with the projected data"
   ]
  },
  {
   "cell_type": "code",
   "execution_count": null,
   "metadata": {},
   "outputs": [],
   "source": [
    "X_proj = pd.DataFrame(X_proj, columns = X_scaled.columns)\n",
    "X_proj"
   ]
  },
  {
   "cell_type": "markdown",
   "metadata": {},
   "source": [
    "Extract our eigenvalues in a specific variable "
   ]
  },
  {
   "cell_type": "code",
   "execution_count": null,
   "metadata": {},
   "outputs": [],
   "source": [
    "pcs = pca.components_\n",
    "pcs"
   ]
  },
  {
   "cell_type": "markdown",
   "metadata": {},
   "source": [
    "Create a special dataframe with the eigenvalues"
   ]
  },
  {
   "cell_type": "code",
   "execution_count": null,
   "metadata": {},
   "outputs": [],
   "source": [
    "components = pd.DataFrame(\n",
    "    pcs, columns=X.columns, index=[f\"PC{i}\" for i in range(1, pca.n_components_ + 1)]\n",
    ")\n",
    "components"
   ]
  },
  {
   "cell_type": "markdown",
   "metadata": {},
   "source": [
    "Transpose the dataframe"
   ]
  },
  {
   "cell_type": "code",
   "execution_count": null,
   "metadata": {},
   "outputs": [],
   "source": [
    "components = components.T\n",
    "components"
   ]
  },
  {
   "cell_type": "markdown",
   "metadata": {},
   "source": [
    "Compute the explained variance ratio and store it in ```evr``` variable"
   ]
  },
  {
   "cell_type": "code",
   "execution_count": null,
   "metadata": {},
   "outputs": [],
   "source": [
    "###################################\n",
    "# ADD SOME CODE HERE\n",
    "###################################\n",
    "\n",
    "\n",
    "evr"
   ]
  },
  {
   "cell_type": "markdown",
   "metadata": {},
   "source": [
    "Display the line plot of the explained variance ratio"
   ]
  },
  {
   "cell_type": "code",
   "execution_count": null,
   "metadata": {},
   "outputs": [],
   "source": [
    "###################################\n",
    "# ADD SOME CODE HERE\n",
    "###################################\n",
    "\n"
   ]
  },
  {
   "cell_type": "markdown",
   "metadata": {},
   "source": [
    "Do the same but with the cumulative sum of the explained variance ratio"
   ]
  },
  {
   "cell_type": "code",
   "execution_count": null,
   "metadata": {},
   "outputs": [],
   "source": [
    "cum_var = pca.explained_variance_ratio_.cumsum()\n",
    "cum_var"
   ]
  },
  {
   "cell_type": "markdown",
   "metadata": {},
   "source": [
    "Plot the cumulative sum of the explained variance ratio"
   ]
  },
  {
   "cell_type": "code",
   "execution_count": null,
   "metadata": {},
   "outputs": [],
   "source": [
    "x = [\"PC0\"] + components.columns.tolist()\n",
    "y = [0] + cum_var.tolist()\n",
    "sns.lineplot(y=y, x=x, marker=\"o\")"
   ]
  },
  {
   "cell_type": "markdown",
   "metadata": {},
   "source": [
    "What are the conclusions ?\n",
    "How many components do we need to keep in order to keep at least 80% of the variance ?"
   ]
  },
  {
   "cell_type": "markdown",
   "metadata": {},
   "source": [
    "**==> ⚠️ ADD SOME COMMENTS HERE ⚠️ <==**"
   ]
  },
  {
   "cell_type": "markdown",
   "metadata": {},
   "source": [
    "Just play this code cell to create the ```correlation_graph``` function"
   ]
  },
  {
   "cell_type": "code",
   "execution_count": null,
   "metadata": {},
   "outputs": [],
   "source": [
    "def correlation_graph(\n",
    "    X_scaled,\n",
    "    pca,\n",
    "    dim: list = [0, 1],\n",
    "):\n",
    "    \"\"\"Affiche le graphe des correlations\n",
    "\n",
    "    Positional arguments :\n",
    "        X_scaled : DataFrame | np.array : le dataset scaled\n",
    "        pca : PCA : l'objet PCA déjà fitté\n",
    "\n",
    "    Optional arguments :\n",
    "        dim : list ou tuple : le couple x,y des plans à afficher, exemple [0,1] pour F1, F2\n",
    "    \"\"\"\n",
    "\n",
    "    # Extrait x et y\n",
    "    x, y = dim\n",
    "\n",
    "    # features\n",
    "    features = X_scaled.columns\n",
    "\n",
    "    # Taille de l'image (en inches)\n",
    "    fig, ax = plt.subplots(figsize=(10, 9))\n",
    "\n",
    "    # Pour chaque composante :\n",
    "    for i in range(0, pca.components_.shape[1]):\n",
    "        # Les flèches\n",
    "        ax.arrow(\n",
    "            0,\n",
    "            0,\n",
    "            pca.components_[x, i],\n",
    "            pca.components_[y, i],\n",
    "            head_width=0.07,\n",
    "            head_length=0.07,\n",
    "            width=0.02,\n",
    "        )\n",
    "\n",
    "        # Les labels\n",
    "        plt.text(\n",
    "            pca.components_[x, i] + 0.05,\n",
    "            pca.components_[y, i] + 0.05,\n",
    "            features[i],\n",
    "        )\n",
    "\n",
    "    # Affichage des lignes horizontales et verticales\n",
    "    plt.plot([-1, 1], [0, 0], color=\"grey\", ls=\"--\")\n",
    "    plt.plot([0, 0], [-1, 1], color=\"grey\", ls=\"--\")\n",
    "\n",
    "    # Nom des axes, avec le pourcentage d'inertie expliqué\n",
    "    plt.xlabel(\n",
    "        \"F{} ({}%)\".format(x + 1, round(100 * pca.explained_variance_ratio_[x], 1))\n",
    "    )\n",
    "    plt.ylabel(\n",
    "        \"F{} ({}%)\".format(y + 1, round(100 * pca.explained_variance_ratio_[y], 1))\n",
    "    )\n",
    "\n",
    "    # title\n",
    "    plt.title(\"Cercle des corrélations (F{} et F{})\".format(x + 1, y + 1))\n",
    "\n",
    "    # Le cercle\n",
    "    an = np.linspace(0, 2 * np.pi, 100)\n",
    "    plt.plot(np.cos(an), np.sin(an))  # Add a unit circle for scale\n",
    "\n",
    "    # Axes et display\n",
    "    plt.axis(\"equal\")\n",
    "    plt.show(block=False)"
   ]
  },
  {
   "cell_type": "markdown",
   "metadata": {},
   "source": [
    "Plot the correlation graph, for X_scaled, pca, with 1st and 2nd synthetic dimensions"
   ]
  },
  {
   "cell_type": "code",
   "execution_count": null,
   "metadata": {},
   "outputs": [],
   "source": [
    "###################################\n",
    "# ADD SOME CODE HERE\n",
    "###################################\n",
    "\n"
   ]
  },
  {
   "cell_type": "markdown",
   "metadata": {},
   "source": [
    "What could you say about the correlation graph ?\n"
   ]
  },
  {
   "cell_type": "markdown",
   "metadata": {},
   "source": [
    "**==> ⚠️ ADD SOME COMMENTS HERE ⚠️ <==**"
   ]
  },
  {
   "cell_type": "markdown",
   "metadata": {},
   "source": [
    "Just play this code cell to create the ```factorial_planes``` function"
   ]
  },
  {
   "cell_type": "code",
   "execution_count": null,
   "metadata": {},
   "outputs": [],
   "source": [
    "def factorial_planes(\n",
    "    X_,\n",
    "    pca,\n",
    "    dim,\n",
    "    labels: list = None,\n",
    "    clusters: list = None,\n",
    "    figsize: list = [12, 10],\n",
    "    fontsize=14,\n",
    "):\n",
    "    \"\"\"Affiche les plans factoriels\"\"\"\n",
    "\n",
    "    x, y = dim\n",
    "\n",
    "    dtypes = (pd.DataFrame, np.ndarray, pd.Series, list, tuple, set)\n",
    "    if not isinstance(labels, dtypes):\n",
    "        labels = []\n",
    "    if not isinstance(clusters, dtypes):\n",
    "        clusters = []\n",
    "\n",
    "    # Initialisation de la figure\n",
    "    fig, ax = plt.subplots(1, 1, figsize=figsize)\n",
    "\n",
    "    if len(clusters):\n",
    "        sns.scatterplot(data=None, x=X_[:, x], y=X_[:, y], hue=clusters)\n",
    "    else:\n",
    "        sns.scatterplot(data=None, x=X_[:, x], y=X_[:, y])\n",
    "\n",
    "    # Si la variable pca a été fournie, on peut calculer le % de variance de chaque axe\n",
    "    v1 = str(round(100 * pca.explained_variance_ratio_[x])) + \" %\"\n",
    "    v2 = str(round(100 * pca.explained_variance_ratio_[y])) + \" %\"\n",
    "\n",
    "    # Nom des axes, avec le pourcentage d'inertie expliqué\n",
    "    ax.set_xlabel(f\"F{x+1} {v1}\")\n",
    "    ax.set_ylabel(f\"F{y+1} {v2}\")\n",
    "\n",
    "    # Valeur x max et y max\n",
    "    x_max = np.abs(X_[:, x]).max() * 1.1\n",
    "    y_max = np.abs(X_[:, y]).max() * 1.1\n",
    "\n",
    "    # On borne x et y\n",
    "    ax.set_xlim(left=-x_max, right=x_max)\n",
    "    ax.set_ylim(bottom=-y_max, top=y_max)\n",
    "\n",
    "    # Affichage des lignes horizontales et verticales\n",
    "    plt.plot([-x_max, x_max], [0, 0], color=\"grey\", alpha=0.8)\n",
    "    plt.plot([0, 0], [-y_max, y_max], color=\"grey\", alpha=0.8)\n",
    "\n",
    "    # Affichage des labels des points\n",
    "    if len(labels):\n",
    "        for i, (_x, _y) in enumerate(X_[:, [x, y]]):\n",
    "            plt.text(\n",
    "                _x, _y + 0.05, labels[i], fontsize=fontsize, ha=\"center\", va=\"center\"\n",
    "            )\n",
    "\n",
    "    # Titre et display\n",
    "    plt.title(f\"Projection des individus (sur F{x+1} et F{y+1})\")\n",
    "    plt.show()"
   ]
  },
  {
   "cell_type": "markdown",
   "metadata": {},
   "source": [
    "Display the factorial planes for X_proj with 1st and 2nd dimensions"
   ]
  },
  {
   "cell_type": "code",
   "execution_count": null,
   "metadata": {},
   "outputs": [],
   "source": [
    "###################################\n",
    "# ADD SOME CODE HERE\n",
    "###################################\n",
    "\n"
   ]
  },
  {
   "cell_type": "markdown",
   "metadata": {},
   "source": [
    "What could you say about the factorial planes ?"
   ]
  },
  {
   "cell_type": "markdown",
   "metadata": {},
   "source": [
    "**==> ⚠️ ADD SOME COMMENTS HERE ⚠️ <==**"
   ]
  },
  {
   "cell_type": "markdown",
   "metadata": {},
   "source": [
    "We can use our clusters parameter to display the species on the factorial planes"
   ]
  },
  {
   "cell_type": "code",
   "execution_count": null,
   "metadata": {},
   "outputs": [],
   "source": [
    "factorial_planes(\n",
    "    X_proj.values, pca, [0, 1], clusters=df.Species.values, figsize=(20, 16), fontsize=6\n",
    ")"
   ]
  },
  {
   "cell_type": "markdown",
   "metadata": {},
   "source": [
    "# Kmeans"
   ]
  },
  {
   "cell_type": "markdown",
   "metadata": {},
   "source": [
    "First we need to find the optimal number of clusters using the WCSS : Within-Cluster-Sum-of-Squares"
   ]
  },
  {
   "cell_type": "code",
   "execution_count": null,
   "metadata": {},
   "outputs": [],
   "source": [
    "inertia_list = []\n",
    "for k in range(2, 11):\n",
    "    kmeans = KMeans(n_clusters=k)\n",
    "    kmeans.fit(X_scaled)\n",
    "    print(k, kmeans.inertia_)\n",
    "    inertia_list.append(kmeans.inertia_)"
   ]
  },
  {
   "cell_type": "markdown",
   "metadata": {},
   "source": [
    "This code seems to be OK, but it was copied/pasted directly from the internet... Could you add some comments, explaining what this code does ?\n",
    "\n"
   ]
  },
  {
   "cell_type": "markdown",
   "metadata": {},
   "source": [
    "**==> ⚠️ ADD SOME COMMENTS HERE ⚠️ <==**"
   ]
  },
  {
   "cell_type": "markdown",
   "metadata": {},
   "source": [
    "Plot the WCSS for 1 to 10 clusters"
   ]
  },
  {
   "cell_type": "code",
   "execution_count": null,
   "metadata": {},
   "outputs": [],
   "source": [
    "plt.plot(range(2, 11), inertia_list, marker=\"o\")"
   ]
  },
  {
   "cell_type": "markdown",
   "metadata": {},
   "source": [
    "What is the optimal number of clusters ?\n",
    "Why ?"
   ]
  },
  {
   "cell_type": "markdown",
   "metadata": {},
   "source": [
    "**==> ⚠️ ADD SOME COMMENTS HERE ⚠️ <==**"
   ]
  },
  {
   "cell_type": "markdown",
   "metadata": {},
   "source": [
    "Define the number of clusters"
   ]
  },
  {
   "cell_type": "code",
   "execution_count": null,
   "metadata": {},
   "outputs": [],
   "source": [
    "###################################\n",
    "# ADD SOME CODE HERE\n",
    "###################################\n",
    "\n",
    "n_clusters"
   ]
  },
  {
   "cell_type": "markdown",
   "metadata": {},
   "source": [
    "Instantiate the Kmeans object ```kmeans``` with the number of clusters"
   ]
  },
  {
   "cell_type": "code",
   "execution_count": null,
   "metadata": {},
   "outputs": [],
   "source": [
    "###################################\n",
    "# ADD SOME CODE HERE\n",
    "###################################\n",
    "\n",
    "kmeans"
   ]
  },
  {
   "cell_type": "markdown",
   "metadata": {},
   "source": [
    "Fit the Kmeans object with X_scaled"
   ]
  },
  {
   "cell_type": "code",
   "execution_count": null,
   "metadata": {},
   "outputs": [],
   "source": [
    "###################################\n",
    "# ADD SOME CODE HERE\n",
    "###################################\n",
    "\n",
    "kmeans"
   ]
  },
  {
   "cell_type": "markdown",
   "metadata": {},
   "source": [
    "Use the predict method to get the cluster number for each data point and store it in the variable ```labels```"
   ]
  },
  {
   "cell_type": "code",
   "execution_count": null,
   "metadata": {},
   "outputs": [],
   "source": [
    "###################################\n",
    "# ADD SOME CODE HERE\n",
    "###################################\n",
    "\n",
    "labels"
   ]
  },
  {
   "cell_type": "markdown",
   "metadata": {},
   "source": [
    "It is better to work with a pandas Series object"
   ]
  },
  {
   "cell_type": "code",
   "execution_count": null,
   "metadata": {},
   "outputs": [],
   "source": [
    "labels = pd.Series(labels, name=\"labels\")\n",
    "labels"
   ]
  },
  {
   "cell_type": "markdown",
   "metadata": {},
   "source": [
    "Just to be sure :"
   ]
  },
  {
   "cell_type": "code",
   "execution_count": null,
   "metadata": {},
   "outputs": [],
   "source": [
    "labels.value_counts()"
   ]
  },
  {
   "cell_type": "markdown",
   "metadata": {},
   "source": [
    "Please read the following line of code : "
   ]
  },
  {
   "cell_type": "code",
   "execution_count": null,
   "metadata": {},
   "outputs": [],
   "source": [
    "labels.value_counts(normalize=True).round(2).sort_values(ascending=False)"
   ]
  },
  {
   "cell_type": "markdown",
   "metadata": {},
   "source": [
    "Please, even if you have not written this code cell, try to explain the output."
   ]
  },
  {
   "cell_type": "markdown",
   "metadata": {},
   "source": [
    "**==> ⚠️ ADD SOME COMMENTS HERE ⚠️ <==**"
   ]
  },
  {
   "cell_type": "markdown",
   "metadata": {},
   "source": [
    "We need to uses boxplot to compare the clusters. "
   ]
  },
  {
   "cell_type": "code",
   "execution_count": null,
   "metadata": {},
   "outputs": [],
   "source": [
    "_df = df.copy()\n",
    "_df[\"labels\"] = labels\n",
    "\n",
    "for col in _df.select_dtypes(include=\"number\").columns:\n",
    "    sns.boxplot(data=_df, y=col, hue=\"labels\")\n",
    "    plt.show()"
   ]
  },
  {
   "cell_type": "markdown",
   "metadata": {},
   "source": [
    "What are the most 2 or 3 important columns to compare the clusters ?"
   ]
  },
  {
   "cell_type": "markdown",
   "metadata": {},
   "source": [
    "**==> ⚠️ ADD SOME COMMENTS HERE ⚠️ <==**"
   ]
  },
  {
   "cell_type": "markdown",
   "metadata": {},
   "source": [
    "Create the cross table between the labels and the species"
   ]
  },
  {
   "cell_type": "code",
   "execution_count": null,
   "metadata": {},
   "outputs": [],
   "source": [
    "crosstab = pd.crosstab(df.Species, _df.labels)\n",
    "crosstab"
   ]
  },
  {
   "cell_type": "markdown",
   "metadata": {},
   "source": [
    "Use an heatmap to display the cross table"
   ]
  },
  {
   "cell_type": "code",
   "execution_count": null,
   "metadata": {},
   "outputs": [],
   "source": [
    "sns.heatmap(crosstab, cmap=\"coolwarm\", vmin=-51, vmax=51, annot=True)"
   ]
  },
  {
   "cell_type": "markdown",
   "metadata": {},
   "source": [
    "What are the conclusions ?"
   ]
  },
  {
   "cell_type": "markdown",
   "metadata": {},
   "source": [
    "**==> ⚠️ ADD SOME COMMENTS HERE ⚠️ <==**"
   ]
  }
 ],
 "metadata": {
  "kernelspec": {
   "display_name": ".venv",
   "language": "python",
   "name": "python3"
  },
  "language_info": {
   "codemirror_mode": {
    "name": "ipython",
    "version": 3
   },
   "file_extension": ".py",
   "mimetype": "text/x-python",
   "name": "python",
   "nbconvert_exporter": "python",
   "pygments_lexer": "ipython3",
   "version": "3.10.12"
  }
 },
 "nbformat": 4,
 "nbformat_minor": 2
}

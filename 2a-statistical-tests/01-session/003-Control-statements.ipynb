{
  "cells": [
    {
      "cell_type": "markdown",
      "metadata": {},
      "source": [
        "#   TP 03 - R Control Statements  - 3/4"
      ]
    },
    {
      "cell_type": "markdown",
      "metadata": {},
      "source": [
        "* Written by Alexandre Gazagnes\n",
        "* Last update: 2024-02-01\n",
        "* Based on https://www.w3schools.com/r/default.asp"
      ]
    },
    {
      "cell_type": "markdown",
      "metadata": {},
      "source": [
        "## If Statement"
      ]
    },
    {
      "cell_type": "code",
      "execution_count": null,
      "metadata": {},
      "outputs": [],
      "source": [
        "# Basic if / else \n",
        "a <- 200\n",
        "b <- 33\n",
        "\n",
        "if (b > a) { # if b is greater than a\n",
        "  print (\"b is greater than a\") \n",
        "} else { # if b is not greater than a\n",
        "  print(\"b is not greater than a\")\n",
        "} "
      ]
    },
    {
      "cell_type": "code",
      "execution_count": null,
      "metadata": {},
      "outputs": [],
      "source": [
        "# Nested if else \n",
        "x <- 41\n",
        "if (x > 10) {\n",
        "  print(\"Above ten\")\n",
        "  if (x > 20) { # and if inside the first if\n",
        "    print(\"and also above 20!\")\n",
        "  } else {\n",
        "    print(\"but not above 20.\")\n",
        "  }\n",
        "} else {\n",
        "  print(\"below 10.\")\n",
        "} "
      ]
    },
    {
      "cell_type": "code",
      "execution_count": null,
      "metadata": {},
      "outputs": [],
      "source": [
        "# Using if + and\n",
        "a <- 200\n",
        "b <- 33\n",
        "c <- 500\n",
        "\n",
        "if (a > b & c > a) { # both conditions are true\n",
        "  print(\"Both conditions are true\")\n",
        "} "
      ]
    },
    {
      "cell_type": "code",
      "execution_count": null,
      "metadata": {},
      "outputs": [],
      "source": [
        "# Using if + or \n",
        "a <- 200\n",
        "b <- 33\n",
        "c <- 500\n",
        "\n",
        "if (a > b | a > c) { # at least one condition is true\n",
        "  print(\"At least one of the conditions is true\")\n",
        "}"
      ]
    },
    {
      "cell_type": "code",
      "execution_count": null,
      "metadata": {},
      "outputs": [],
      "source": [
        "# Using in operator\n",
        "fruits <- c(\"apple\", \"banana\", \"cherry\")\n",
        "\"banana\" %in% fruits # TRUE"
      ]
    },
    {
      "cell_type": "markdown",
      "metadata": {},
      "source": [
        "## While loops"
      ]
    },
    {
      "cell_type": "code",
      "execution_count": null,
      "metadata": {},
      "outputs": [],
      "source": [
        "# Basic while\n",
        "i <- 1\n",
        "while (i < 6) {\n",
        "  print(i)\n",
        "  i <- i + 1 # increment\n",
        "} "
      ]
    },
    {
      "cell_type": "code",
      "execution_count": null,
      "metadata": {},
      "outputs": [],
      "source": [
        "# break\n",
        "i <- 1\n",
        "while (i < 6) {\n",
        "  print(i)\n",
        "  i <- i + 1\n",
        "  if (i == 4) {\n",
        "    break # stop the loop\n",
        "  }\n",
        "} "
      ]
    },
    {
      "cell_type": "code",
      "execution_count": null,
      "metadata": {},
      "outputs": [],
      "source": [
        "# next\n",
        "i <- 0\n",
        "while (i < 6) {\n",
        "  i <- i + 1\n",
        "  if (i == 3) {\n",
        "    next # skip the loop\n",
        "  }\n",
        "  print(i)\n",
        "} "
      ]
    },
    {
      "cell_type": "markdown",
      "metadata": {},
      "source": [
        "## For loops"
      ]
    },
    {
      "cell_type": "code",
      "execution_count": null,
      "metadata": {},
      "outputs": [],
      "source": [
        "# Basic for\n",
        "fruits <- list(\"apple\", \"banana\", \"cherry\")\n",
        "\n",
        "for (x in fruits) { # for each item in the list\n",
        "  print(x)\n",
        "} "
      ]
    },
    {
      "cell_type": "code",
      "execution_count": null,
      "metadata": {},
      "outputs": [],
      "source": [
        "# Using for + range\n",
        "for (x in 1:10) { # using a range\n",
        "  print(x)\n",
        "} "
      ]
    },
    {
      "cell_type": "code",
      "execution_count": null,
      "metadata": {},
      "outputs": [],
      "source": [
        "# Using for + beak\n",
        "fruits <- list(\"apple\", \"banana\", \"cherry\")\n",
        "for (x in fruits) {\n",
        "  if (x == \"cherry\") {\n",
        "    break # stop the loop\n",
        "  }\n",
        "  print(x)\n",
        "} "
      ]
    },
    {
      "cell_type": "code",
      "execution_count": null,
      "metadata": {},
      "outputs": [],
      "source": [
        "# Nested for \n",
        "adj <- list(\"red\", \"big\", \"tasty\")\n",
        "fruits <- list(\"apple\", \"banana\", \"cherry\")\n",
        "for (x in adj) {\n",
        "  for (y in fruits) {\n",
        "    print(paste(x, y))\n",
        "  }\n",
        "} "
      ]
    },
    {
      "cell_type": "code",
      "execution_count": null,
      "metadata": {},
      "outputs": [],
      "source": [
        "# for next\n",
        "fruits <- list(\"apple\", \"banana\", \"cherry\")\n",
        "for (x in fruits) {\n",
        "  if (x == \"banana\") {\n",
        "    next # skip the loop\n",
        "  }\n",
        "  print(x)\n",
        "} "
      ]
    },
    {
      "cell_type": "markdown",
      "metadata": {},
      "source": [
        "## Functions"
      ]
    },
    {
      "cell_type": "code",
      "execution_count": null,
      "metadata": {},
      "outputs": [],
      "source": [
        "# Basic function\n",
        "my_function <- function() { # create a function with the name my_function\n",
        "  print(\"Hello World!\")\n",
        "}"
      ]
    },
    {
      "cell_type": "code",
      "execution_count": null,
      "metadata": {},
      "outputs": [],
      "source": [
        "# Using arguments\n",
        "my_function <- function(fname) { #Here, fname is the argument\n",
        "  paste(fname, \"Griffin\")\n",
        "}\n",
        "\n",
        "my_function(\"Peter\")\n"
      ]
    },
    {
      "cell_type": "code",
      "execution_count": null,
      "metadata": {},
      "outputs": [],
      "source": [
        "# will you get an error?\n",
        "my_function() "
      ]
    },
    {
      "cell_type": "code",
      "execution_count": null,
      "metadata": {},
      "outputs": [],
      "source": [
        "# Default arguments \n",
        "my_function <- function(country = \"Norway\") {\n",
        "  paste(\"I am from\", country)\n",
        "}\n",
        "\n",
        "my_function(\"Sweden\")"
      ]
    },
    {
      "cell_type": "code",
      "execution_count": null,
      "metadata": {},
      "outputs": [],
      "source": [
        "# will you get an error?\n",
        "my_function() "
      ]
    },
    {
      "cell_type": "code",
      "execution_count": null,
      "metadata": {},
      "outputs": [],
      "source": [
        "# Using return statement \n",
        "my_function <- function(x) {\n",
        "  return (5 * x)\n",
        "}\n",
        "\n",
        "print(my_function(3))"
      ]
    },
    {
      "cell_type": "code",
      "execution_count": null,
      "metadata": {},
      "outputs": [],
      "source": [
        "# Thanks to the return statement, the function will return the value 15.\n",
        "y = 12 + my_function(3)\n",
        "y"
      ]
    }
  ],
  "metadata": {
    "colab": {
      "private_outputs": true,
      "provenance": [],
      "toc_visible": true
    },
    "kernelspec": {
      "display_name": ".venv",
      "language": "python",
      "name": "python3"
    },
    "language_info": {
      "codemirror_mode": {
        "name": "ipython",
        "version": 3
      },
      "file_extension": ".py",
      "mimetype": "text/x-python",
      "name": "python",
      "nbconvert_exporter": "python",
      "pygments_lexer": "ipython3",
      "version": "3.10.12"
    }
  },
  "nbformat": 4,
  "nbformat_minor": 0
}

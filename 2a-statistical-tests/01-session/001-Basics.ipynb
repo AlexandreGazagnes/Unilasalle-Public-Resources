{
  "cells": [
    {
      "cell_type": "markdown",
      "metadata": {},
      "source": [
        "#   TP 01 - R Basics - 1/4"
      ]
    },
    {
      "cell_type": "markdown",
      "metadata": {},
      "source": [
        "* Written by Alexandre Gazagnes\n",
        "* Last update: 2024-02-01\n",
        "* Based on https://www.w3schools.com/r/default.asp"
      ]
    },
    {
      "cell_type": "markdown",
      "metadata": {},
      "source": [
        "## About "
      ]
    },
    {
      "cell_type": "markdown",
      "metadata": {},
      "source": [
        "* R is a programming language for statistical computing and data visualization. It has been adopted in the fields of data mining, bioinformatics, and data analysis.\n",
        "\n",
        "\n",
        "* The core R language is augmented by a large number of extension packages, containing reusable code, documentation, and sample data.\n",
        "\n",
        "\n",
        "* R software is open-source and free software. It is licensed by the GNU Project and available under the GNU General Public License.It is written primarily in C, Fortran, and R itself. Precompiled executables are provided for various operating systems.\n",
        "\n",
        "\n",
        "* As an interpreted language, R has a native command line interface. Moreover, multiple third-party graphical user interfaces are available, such as RStudio—an integrated development environment—and Jupyter—a notebook interface. "
      ]
    },
    {
      "cell_type": "markdown",
      "metadata": {},
      "source": [
        "## Hello, World!"
      ]
    },
    {
      "cell_type": "code",
      "execution_count": null,
      "metadata": {},
      "outputs": [],
      "source": [
        "# Your 1st line \n",
        "print(\"Hello World!\") "
      ]
    },
    {
      "cell_type": "code",
      "execution_count": null,
      "metadata": {},
      "outputs": [],
      "source": [
        "# Using a variable\n",
        "txt <- \"Hello World!\"\n",
        "print(txt)"
      ]
    },
    {
      "cell_type": "code",
      "execution_count": null,
      "metadata": {},
      "outputs": [],
      "source": [
        "# '<-' is the same than '=' \n",
        "txt = \"Hello World!\"\n",
        "print(txt)"
      ]
    },
    {
      "cell_type": "code",
      "execution_count": null,
      "metadata": {},
      "outputs": [],
      "source": [
        "# Concatenate 2 strings\n",
        "text1 <- \"R is\"\n",
        "# or text1 = \"R is\"\n",
        "text2 <- \"awesome\"\n",
        "paste(text1, text2) "
      ]
    },
    {
      "cell_type": "markdown",
      "metadata": {},
      "source": [
        "## Simple Maths operations"
      ]
    },
    {
      "cell_type": "code",
      "execution_count": null,
      "metadata": {},
      "outputs": [],
      "source": [
        "3+3 # Addition\n",
        "3-3 # Subtraction\n",
        "3*3 # Multiplication\n",
        "3/3 # Division\n",
        "3^3 # Exponentiation\n",
        "3%%3 # Modulus / remainder\n",
        "3%/%3 # Integer division"
      ]
    },
    {
      "cell_type": "code",
      "execution_count": null,
      "metadata": {},
      "outputs": [],
      "source": [
        "# A very basic error\n",
        "num <- 5\n",
        "num = 5\n",
        "text <- \"Some text\"\n",
        "num + text \n",
        "# Not possible to cat text and num"
      ]
    },
    {
      "cell_type": "markdown",
      "metadata": {},
      "source": [
        "## Variable names"
      ]
    },
    {
      "cell_type": "code",
      "execution_count": null,
      "metadata": {},
      "outputs": [],
      "source": [
        "# Legal variable names:\n",
        "myvar <- \"John\"\n",
        "my_var <- \"John\"\n",
        "myVar <- \"John\"\n",
        "MYVAR <- \"John\"\n",
        "myvar2 <- \"John\"\n",
        ".myvar <- \"John\""
      ]
    },
    {
      "cell_type": "code",
      "execution_count": null,
      "metadata": {},
      "outputs": [],
      "source": [
        "# Illegal variable names:\n",
        "# 2myvar <- \"John\"\n",
        "# my-var <- \"John\"\n",
        "# my var <- \"John\"\n",
        "# _my_var <- \"John\"\n",
        "# my_v@ar <- \"John\"\n",
        "# TRUE <- \"John\""
      ]
    }
  ],
  "metadata": {
    "colab": {
      "private_outputs": true,
      "provenance": [],
      "toc_visible": true
    },
    "kernelspec": {
      "display_name": ".venv",
      "language": "python",
      "name": "python3"
    },
    "language_info": {
      "name": "python",
      "version": "3.10.12"
    }
  },
  "nbformat": 4,
  "nbformat_minor": 0
}

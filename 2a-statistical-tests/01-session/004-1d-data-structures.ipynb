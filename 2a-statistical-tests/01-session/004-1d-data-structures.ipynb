{
 "cells": [
  {
   "cell_type": "markdown",
   "metadata": {},
   "source": [
    "#   TP 04 - R Data Structures - 4/4\n",
    "* Written by Alexandre Gazagnes\n",
    "* Last update: 2024-02-01\n",
    "* Based on https://www.w3schools.com/r/default.asp"
   ]
  },
  {
   "cell_type": "markdown",
   "metadata": {},
   "source": [
    "## Vectors"
   ]
  },
  {
   "cell_type": "code",
   "execution_count": null,
   "metadata": {},
   "outputs": [],
   "source": [
    "# Vector of strings\n",
    "fruits < -c(\"banana\", \"apple\", \"orange\")\n",
    "# Print fruits\n",
    "fruits"
   ]
  },
  {
   "cell_type": "code",
   "execution_count": null,
   "metadata": {},
   "outputs": [],
   "source": [
    "# Length\n",
    "length(fruits)"
   ]
  },
  {
   "cell_type": "code",
   "execution_count": null,
   "metadata": {},
   "outputs": [],
   "source": [
    "# Vector of numbers\n",
    "numbers < -c(1, 2, 3, 4, 5)\n",
    "numbers"
   ]
  },
  {
   "cell_type": "code",
   "execution_count": null,
   "metadata": {},
   "outputs": [],
   "source": [
    "# Vector of mixed data types\n",
    "mixed < -c(\"apple\", 1, 2, 3, 4, 5)\n",
    "mixed  # \"apple\" \"1\" \"2\" \"3\" \"4\" \"5\""
   ]
  },
  {
   "cell_type": "code",
   "execution_count": null,
   "metadata": {},
   "outputs": [],
   "source": [
    "# Same with int and float\n",
    "mixed = c(1.4, 1, 0, 12)\n",
    "mixed  # 1.4 1.0 0.0 12.0"
   ]
  },
  {
   "cell_type": "code",
   "execution_count": null,
   "metadata": {},
   "outputs": [],
   "source": [
    "# Vector concatenation\n",
    "fruits < -c(\"banana\", \"apple\", \"orange\")\n",
    "veggies < -c(\"tomato\", \"potato\", \"onion\")\n",
    "food < -c(fruits, veggies)"
   ]
  },
  {
   "cell_type": "code",
   "execution_count": null,
   "metadata": {},
   "outputs": [],
   "source": [
    "# Be careful with the order of operations\n",
    "fruits < -c(\"banana\", \"apple\")\n",
    "food  # here food was not modified"
   ]
  },
  {
   "cell_type": "code",
   "execution_count": null,
   "metadata": {},
   "outputs": [],
   "source": [
    "# Sort\n",
    "fruits < -c(\"banana\", \"apple\", \"orange\", \"mango\", \"lemon\")\n",
    "numbers < -c(13, 3, 5, 7, 20, 2)\n",
    "sort(fruits)  # Sort a string\n",
    "sort(numbers)  # Sort numbers\n",
    "sort(numbers, decreasing=TRUE)  # Sort numbers in decreasing order"
   ]
  },
  {
   "cell_type": "code",
   "execution_count": null,
   "metadata": {},
   "outputs": [],
   "source": [
    "# Rank\n",
    "rank(fruits)  # Rank a string\n",
    "rank(numbers)  # Rank numbers"
   ]
  },
  {
   "cell_type": "code",
   "execution_count": null,
   "metadata": {},
   "outputs": [],
   "source": [
    "# Sum\n",
    "sum(numbers) # Sum of numbers\n",
    "sum(numbers, na.rm = TRUE) # Sum of numbers, ignoring NA values"
   ]
  },
  {
   "cell_type": "code",
   "execution_count": null,
   "metadata": {},
   "outputs": [],
   "source": [
    "# Names of the elements\n",
    "fruits < -c(\"banana\", \"apple\", \"orange\")\n",
    "names(fruits) < -c(\"first\", \"second\", \"third\")\n",
    "fruits"
   ]
  },
  {
   "cell_type": "code",
   "execution_count": null,
   "metadata": {},
   "outputs": [],
   "source": [
    "# Accessssing items\n",
    "fruits < -c(\"banana\", \"apple\", \"orange\")\n",
    "fruits[1]  # 1-based index => 1st item\n",
    "fruits[2]  # 1-based index => 2nd item"
   ]
  },
  {
   "cell_type": "code",
   "execution_count": null,
   "metadata": {},
   "outputs": [],
   "source": [
    "# Access the last item (orange)\n",
    "fruits[length(fruits)]  # 1-based index => last item\n",
    "fruits[-1]  # all but the first\n",
    "fruits[-2]  # all but the second"
   ]
  },
  {
   "cell_type": "code",
   "execution_count": null,
   "metadata": {},
   "outputs": [],
   "source": [
    "# Access the first and third item (banana and orange)\n",
    "fruits < -c(\"banana\", \"apple\", \"orange\", \"mango\", \"lemon\")\n",
    "v = c(1, 3)  # indices\n",
    "fruits[v]  # 1-based index => 1st and 3rd items"
   ]
  },
  {
   "cell_type": "code",
   "execution_count": null,
   "metadata": {},
   "outputs": [],
   "source": [
    "# Access all but the first and third item (apple and mango)\n",
    "fruits < -c(\"banana\", \"apple\", \"orange\", \"mango\", \"lemon\")\n",
    "v = c(-1, -3)  # indices\n",
    "fruits[v]  # 1-based index => all but 1st and 3rd items"
   ]
  },
  {
   "cell_type": "code",
   "execution_count": null,
   "metadata": {},
   "outputs": [],
   "source": [
    "# better :\n",
    "v = c(1, 3)\n",
    "fruits[-v]  # 1-based index => all but 1st and 3rd items"
   ]
  },
  {
   "cell_type": "code",
   "execution_count": null,
   "metadata": {},
   "outputs": [],
   "source": [
    "# With a range\n",
    "fruits <- c(\"banana\", \"apple\", \"orange\", \"mango\", \"lemon\")\n",
    "v = 1:3\n",
    "fruits[v]  # 1-based index => 1st to 3rd items"
   ]
  },
  {
   "cell_type": "code",
   "execution_count": null,
   "metadata": {},
   "outputs": [],
   "source": [
    "# better :\n",
    "fruits[1:3]  # 1-based index => 1st to 3rd items"
   ]
  },
  {
   "cell_type": "code",
   "execution_count": null,
   "metadata": {},
   "outputs": [],
   "source": [
    "# Change \"banana\" to \"pear\"\n",
    "fruits[1] < -\"pear\"\n",
    "fruits"
   ]
  },
  {
   "cell_type": "markdown",
   "metadata": {},
   "source": [
    "## Repetition and sequences\n",
    "\n"
   ]
  },
  {
   "cell_type": "code",
   "execution_count": null,
   "metadata": {},
   "outputs": [],
   "source": [
    "# Repetitions\n",
    "repeat_each < -rep(c(1, 2, 3), each=3)\n",
    "repeat_each"
   ]
  },
  {
   "cell_type": "code",
   "execution_count": null,
   "metadata": {},
   "outputs": [],
   "source": [
    "# Sequences\n",
    "numbers <- seq(0, 100, 20)\n",
    "numbers <- seq(from = 0, to = 100, by = 20)\n",
    "numbers"
   ]
  }
 ],
 "metadata": {
  "colab": {
   "private_outputs": true,
   "provenance": [],
   "toc_visible": true
  },
  "kernelspec": {
   "display_name": ".venv",
   "language": "python",
   "name": "python3"
  },
  "language_info": {
   "name": "python",
   "version": "3.10.12"
  }
 },
 "nbformat": 4,
 "nbformat_minor": 0
}

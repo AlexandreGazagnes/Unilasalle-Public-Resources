{
 "cells": [
  {
   "cell_type": "markdown",
   "metadata": {},
   "source": [
    "#   TP 02 - R Data Types - 2/4"
   ]
  },
  {
   "cell_type": "markdown",
   "metadata": {},
   "source": [
    "* Written by Alexandre Gazagnes\n",
    "* Last update: 2024-02-01\n",
    "* Based on https://www.w3schools.com/r/default.asp"
   ]
  },
  {
   "cell_type": "markdown",
   "metadata": {},
   "source": [
    "## Numerics\n"
   ]
  },
  {
   "cell_type": "code",
   "execution_count": null,
   "metadata": {},
   "outputs": [],
   "source": [
    "# Numeric\n",
    "x <- 10.5\n",
    "class(x)"
   ]
  },
  {
   "cell_type": "code",
   "execution_count": null,
   "metadata": {},
   "outputs": [],
   "source": [
    "# Integer\n",
    "x <- 1000\n",
    "class(x)"
   ]
  },
  {
   "cell_type": "code",
   "execution_count": null,
   "metadata": {},
   "outputs": [],
   "source": [
    "# Complex\n",
    "x <- 9i + 3\n",
    "class(x)"
   ]
  },
  {
   "cell_type": "code",
   "execution_count": null,
   "metadata": {},
   "outputs": [],
   "source": [
    "# Numbers ?\n",
    "x <- 10.5   # numeric\n",
    "y <- 10     # integer\n",
    "z <- 1i     # complex"
   ]
  },
  {
   "cell_type": "code",
   "execution_count": null,
   "metadata": {},
   "outputs": [],
   "source": [
    "# Basic Maths operations on numbers\n",
    "sqrt(16)  # square root\n",
    "\n",
    "log(10)  # logarithm\n",
    "log(10, base=2)  # logarithm with base 2\n",
    "\n",
    "exp(2)  # exponential"
   ]
  },
  {
   "cell_type": "code",
   "execution_count": null,
   "metadata": {},
   "outputs": [],
   "source": [
    "sin(pi)  # sine\n",
    "cos(pi)  # cosine\n",
    "tan(pi)  # tangent\n",
    "\n",
    "asin(1)  # arcsine\n",
    "acos(1)  # arccosine"
   ]
  },
  {
   "cell_type": "code",
   "execution_count": null,
   "metadata": {},
   "outputs": [],
   "source": [
    "factorial(5)  # factorial\n",
    "\n",
    "choose(5, 2)  # binomial coefficient"
   ]
  },
  {
   "cell_type": "code",
   "execution_count": null,
   "metadata": {},
   "outputs": [],
   "source": [
    "max(5, 10, 15)  # max\n",
    "min(5, 10, 15)  # min"
   ]
  },
  {
   "cell_type": "code",
   "execution_count": null,
   "metadata": {},
   "outputs": [],
   "source": [
    "abs(-4.7)  # absolute value\n",
    "ceiling(1.4)  # round up\n",
    "floor(1.4)  # round down"
   ]
  },
  {
   "cell_type": "code",
   "execution_count": null,
   "metadata": {},
   "outputs": [],
   "source": [
    "round(1.4)  # round to the nearest integer\n",
    "round(1.556789, 2)  # round to 2 decimals"
   ]
  },
  {
   "cell_type": "code",
   "execution_count": null,
   "metadata": {},
   "outputs": [],
   "source": [
    "# Is it numeric ?\n",
    "is.numeric(10) # TRUE"
   ]
  },
  {
   "cell_type": "markdown",
   "metadata": {},
   "source": [
    "## Strings"
   ]
  },
  {
   "cell_type": "code",
   "execution_count": null,
   "metadata": {},
   "outputs": [],
   "source": [
    "# character/string\n",
    "x <- \"R is exciting\"\n",
    "class(x)"
   ]
  },
  {
   "cell_type": "code",
   "execution_count": null,
   "metadata": {},
   "outputs": [],
   "source": [
    "# Strings without cat\n",
    "str <- \"Lorem ipsum dolor sit amet,\n",
    "consectetur adipiscing elit,\n",
    "sed do eiusmod tempor incididunt\n",
    "ut labore et dolore magna aliqua.\"\n",
    "str # print the value of str"
   ]
  },
  {
   "cell_type": "code",
   "execution_count": null,
   "metadata": {},
   "outputs": [],
   "source": [
    "# strings with cat\n",
    "str <- \"Lorem ipsum dolor sit amet,\n",
    "consectetur adipiscing elit,\n",
    "sed do eiusmod tempor incididunt\n",
    "ut labore et dolore magna aliqua.\"\n",
    "cat(str)"
   ]
  },
  {
   "cell_type": "code",
   "execution_count": null,
   "metadata": {},
   "outputs": [],
   "source": [
    "# nb of chars\n",
    "str < -\"Hello World!\"\n",
    "nchar(str)"
   ]
  },
  {
   "cell_type": "code",
   "execution_count": null,
   "metadata": {},
   "outputs": [],
   "source": [
    "# grep\n",
    "str < -\"Hello World!\"\n",
    "grepl(\"H\", str)\n",
    "grepl(\"Hello\", str)\n",
    "grepl(\"X\", str)"
   ]
  },
  {
   "cell_type": "markdown",
   "metadata": {},
   "source": [
    "## Boolean"
   ]
  },
  {
   "cell_type": "code",
   "execution_count": null,
   "metadata": {},
   "outputs": [],
   "source": [
    "# logical/boolean\n",
    "x <- TRUE\n",
    "x = FALSE\n",
    "class(x) "
   ]
  },
  {
   "cell_type": "code",
   "execution_count": null,
   "metadata": {},
   "outputs": [],
   "source": [
    "# Please note that  :\n",
    "TRUE + TRUE  # is 2\n",
    "TRUE + FALSE  # is 1\n",
    "FALSE + FALSE  # is 0\n",
    "TRUE * TRUE  # is 1\n",
    "TRUE * FALSE  # is 0\n",
    "FALSE * FALSE  # is 0"
   ]
  },
  {
   "cell_type": "code",
   "execution_count": null,
   "metadata": {},
   "outputs": [],
   "source": [
    "# Logical operators\n",
    "10 > 9  # TRUE because 10 is greater than 9\n",
    "10 >= 9  # TRUE because 10 is greater than 9\n",
    "10 == 9  # FALSE because 10 is not equal to 9\n",
    "10 < 9  # FALSE because 10 is greater than 9\n",
    "10 <= 9  # FALSE because 10 is greater than 9\n",
    "10 != 9  # TRUE because 10 is not equal to 9"
   ]
  },
  {
   "cell_type": "code",
   "execution_count": null,
   "metadata": {},
   "outputs": [],
   "source": [
    "# of course ...\n",
    "ans = 10 > 9\n",
    "class(ans) # bool ? \n",
    "print(ans)"
   ]
  },
  {
   "cell_type": "code",
   "execution_count": null,
   "metadata": {},
   "outputs": [],
   "source": [
    "# and and or\n",
    "(10 > 9) & (10 > 9)  # TRUE because 10 is greater than 9 and 10 is greater than 9\n",
    "(10 > 9) & (10 < 9)  # FALSE because 10 is greater than 9 but 10 is not greater than 9\n",
    "(10 > 9) | (10 < 9)  # TRUE because 10 is greater than 9 and 10 is not greater than 9\n",
    "!(10 > 9)            # FALSE because 10 is greater than 9\n",
    "!(10 < 9)            # TRUE because 10 is not greater than 9"
   ]
  },
  {
   "cell_type": "code",
   "execution_count": null,
   "metadata": {},
   "outputs": [],
   "source": [
    "# fun fact\n",
    "pi == 3.14159265"
   ]
  },
  {
   "cell_type": "code",
   "execution_count": null,
   "metadata": {},
   "outputs": [],
   "source": [
    "round(pi, 2) == 3.14"
   ]
  },
  {
   "cell_type": "markdown",
   "metadata": {},
   "source": [
    "## NULL, NA and NAN"
   ]
  },
  {
   "cell_type": "code",
   "execution_count": null,
   "metadata": {},
   "outputs": [],
   "source": [
    "# in R Null is a special value that means \"no value\"\n",
    "x <- NULL\n",
    "class(x)"
   ]
  },
  {
   "cell_type": "code",
   "execution_count": null,
   "metadata": {},
   "outputs": [],
   "source": [
    "# NA is used to represent missing values in a dataset\n",
    "x <- NA\n",
    "class(x)"
   ]
  },
  {
   "cell_type": "code",
   "execution_count": null,
   "metadata": {},
   "outputs": [],
   "source": [
    "# Inf\n",
    "x <- 1000/0\n",
    "class(x)"
   ]
  },
  {
   "cell_type": "code",
   "execution_count": null,
   "metadata": {},
   "outputs": [],
   "source": [
    "# NaN\n",
    "x <- 0/0\n",
    "class(x)"
   ]
  },
  {
   "cell_type": "markdown",
   "metadata": {},
   "source": [
    "## Ranges"
   ]
  },
  {
   "cell_type": "code",
   "execution_count": null,
   "metadata": {},
   "outputs": [],
   "source": [
    "range = 1:10\n",
    "range\n",
    "class(range)"
   ]
  },
  {
   "cell_type": "markdown",
   "metadata": {},
   "source": [
    "## In usage"
   ]
  },
  {
   "cell_type": "code",
   "execution_count": null,
   "metadata": {},
   "outputs": [],
   "source": [
    "3 %in% 1:10\n",
    "100 %in% 1:99"
   ]
  },
  {
   "cell_type": "code",
   "execution_count": null,
   "metadata": {},
   "outputs": [],
   "source": [
    "# BUT : \n",
    "100 %in% 1:100"
   ]
  }
 ],
 "metadata": {
  "colab": {
   "private_outputs": true,
   "provenance": [],
   "toc_visible": true
  },
  "kernelspec": {
   "display_name": ".venv",
   "language": "python",
   "name": "python3"
  },
  "language_info": {
   "codemirror_mode": {
    "name": "ipython",
    "version": 3
   },
   "file_extension": ".py",
   "mimetype": "text/x-python",
   "name": "python",
   "nbconvert_exporter": "python",
   "pygments_lexer": "ipython3",
   "version": "3.10.12"
  }
 },
 "nbformat": 4,
 "nbformat_minor": 0
}

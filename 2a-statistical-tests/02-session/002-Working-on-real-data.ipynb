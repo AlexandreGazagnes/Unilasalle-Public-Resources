{
  "cells": [
    {
      "cell_type": "markdown",
      "metadata": {},
      "source": [
        "#   TP 02 - About Data Frames - 2/2\n",
        "* Written by Alexandre Gazagnes\n",
        "* Last update: 2024-02-01\n",
        "* Based on https://www.w3schools.com/r/default.asp"
      ]
    },
    {
      "cell_type": "markdown",
      "metadata": {},
      "source": [
        "## Load the dataset "
      ]
    },
    {
      "cell_type": "code",
      "execution_count": null,
      "metadata": {},
      "outputs": [],
      "source": [
        "\n",
        "# Url to the csv file\n",
        "url = \"https://raw.githubusercontent.com/AlexandreGazagnes/Unilassalle-Public-Ressources/main/2a-statistical-tests/01-session/database.csv\"\n"
      ]
    },
    {
      "cell_type": "code",
      "execution_count": null,
      "metadata": {},
      "outputs": [],
      "source": [
        "# Local file\n",
        "fn= \"/home/alex/Downloads/my_awsome_db.csv\""
      ]
    },
    {
      "cell_type": "code",
      "execution_count": null,
      "metadata": {},
      "outputs": [],
      "source": [
        "# Load the csv file\n",
        "df = read.csv(url, header = TRUE, sep = \",\", dec = \".\")"
      ]
    },
    {
      "cell_type": "markdown",
      "metadata": {},
      "source": [
        "## Data Discovery"
      ]
    },
    {
      "cell_type": "code",
      "execution_count": null,
      "metadata": {},
      "outputs": [],
      "source": [
        "# head of the csv file\n",
        "head(df, 5) # first 2 rows"
      ]
    },
    {
      "cell_type": "code",
      "execution_count": null,
      "metadata": {},
      "outputs": [],
      "source": [
        "# str of the csv file\n",
        "str(df) # compact display of the structure of an R object"
      ]
    },
    {
      "cell_type": "code",
      "execution_count": null,
      "metadata": {},
      "outputs": [],
      "source": [
        "# is.numeric\n",
        "is.numeric(df$Taille) # TRUE\n",
        "is.numeric(df$Nom) # TRUE"
      ]
    },
    {
      "cell_type": "code",
      "execution_count": null,
      "metadata": {},
      "outputs": [],
      "source": [
        "# min and max\n",
        "min(df$Poids) # 1.5\n",
        "max(df$Poids) # 2.5\n",
        "min(df$Taille) # 1.5\n",
        "max(df$Taille) # 2.5\n",
        "max(df$Taille, na.rm = TRUE) # 2.5"
      ]
    },
    {
      "cell_type": "code",
      "execution_count": null,
      "metadata": {},
      "outputs": [],
      "source": [
        "# Mr Blois\n",
        "df[df$Nom == \"Blois\",]"
      ]
    },
    {
      "cell_type": "code",
      "execution_count": null,
      "metadata": {},
      "outputs": [],
      "source": [
        "# Try this\n",
        "\"Coucou\" %in% df$Nom"
      ]
    },
    {
      "cell_type": "code",
      "execution_count": null,
      "metadata": {},
      "outputs": [],
      "source": [
        "# Advanced selection\n",
        "df[df$Sexe == \"M\" & ( (df$Quart == \"Q4\") |(df$Quart == \"Q1\")), ]"
      ]
    },
    {
      "cell_type": "code",
      "execution_count": null,
      "metadata": {},
      "outputs": [],
      "source": [
        "# count the number of elements in each category\n",
        "table(df$Sexe)"
      ]
    },
    {
      "cell_type": "code",
      "execution_count": null,
      "metadata": {},
      "outputs": [],
      "source": [
        "# ask for the shape of the dataframe\n",
        "dim(df) # 4 rows and 2 columns"
      ]
    },
    {
      "cell_type": "code",
      "execution_count": null,
      "metadata": {},
      "outputs": [],
      "source": [
        "# ask for the summary of the dataframe\n",
        "summary(df)"
      ]
    },
    {
      "cell_type": "markdown",
      "metadata": {},
      "source": [
        "## Answers"
      ]
    },
    {
      "cell_type": "code",
      "execution_count": null,
      "metadata": {},
      "outputs": [],
      "source": [
        "# Calculate the means of the estimates of the teacher's weight (poids) in group D1 (then D2).\n",
        "mean(df[df$Groupe == \"D1\",]$Poids, na.rm = TRUE)"
      ]
    },
    {
      "cell_type": "code",
      "execution_count": null,
      "metadata": {},
      "outputs": [],
      "source": [
        "# Calculate the average of the first random numbers (Nombre1) of the students in group D2?\n",
        "mean(df[df$Groupe == \"D2\",]$Nombre1, na.rm = TRUE)\n"
      ]
    },
    {
      "cell_type": "code",
      "execution_count": null,
      "metadata": {},
      "outputs": [],
      "source": [
        "# Estimate the variance of the size (Taille) of the teacher, we will take all the students.\n",
        "var(df$Taille, na.rm = TRUE)"
      ]
    },
    {
      "cell_type": "code",
      "execution_count": null,
      "metadata": {},
      "outputs": [],
      "source": [
        "# Calculate the median of the sample consisting of the first random number (Nombre1)  between 0 and 99 given by the students (Men=M).\n",
        "median(df[df$Sexe == \"M\",]$Nombre1, na.rm = TRUE)"
      ]
    },
    {
      "cell_type": "code",
      "execution_count": null,
      "metadata": {},
      "outputs": [],
      "source": [
        "# Calculate the deciles of the sample consisting of the first random number (Nombre1)  between 0 and 99 given by the students (Men).\n",
        "quantile(df[df$Sexe == \"M\",]$Nombre1, na.rm = TRUE)"
      ]
    },
    {
      "cell_type": "code",
      "execution_count": null,
      "metadata": {},
      "outputs": [],
      "source": [
        "# Calculate the coefficients of variation, skewness and kurtosis of the teacher's heights (taille) of all students.\n",
        "cv(df$Taille, na.rm = TRUE)\n",
        "skewness(df$Taille, na.rm = TRUE)\n",
        "kurtosis(df$Taille, na.rm = TRUE)"
      ]
    },
    {
      "cell_type": "code",
      "execution_count": null,
      "metadata": {},
      "outputs": [],
      "source": [
        "# Summarize the series by these main characteristics (function summary).\n",
        "summary(df)"
      ]
    },
    {
      "cell_type": "code",
      "execution_count": null,
      "metadata": {},
      "outputs": [],
      "source": [
        "# 9) Display the division of the series made up of the second random number (Nombre2)   between 0 and 99 given by the students (Men =M and Women=M) according to the following breakdown:\n",
        "# ]-1 ; 9], ]9 ; 19], ]19 ; 29], ]29 ; 39], ]39 ; 49], ]49 ; 59], ]59 ; 69], ]69 ; 79], ]79 ; 89], ]89 ; 99]."
      ]
    },
    {
      "cell_type": "code",
      "execution_count": null,
      "metadata": {},
      "outputs": [],
      "source": [
        "# Create the breaks\n",
        "breaks = seq(-1, 99, 10)"
      ]
    },
    {
      "cell_type": "code",
      "execution_count": null,
      "metadata": {},
      "outputs": [],
      "source": [
        "# Cut the data\n",
        "df$cut = cut(df$Nombre2, breaks = breaks)"
      ]
    },
    {
      "cell_type": "code",
      "execution_count": null,
      "metadata": {},
      "outputs": [],
      "source": [
        "# Count the number of elements in each category\n",
        "table(df$cut)"
      ]
    },
    {
      "cell_type": "code",
      "execution_count": null,
      "metadata": {},
      "outputs": [],
      "source": [
        "# Display the distribution of the series made up of the second random number (Nombre2)   between 0 and 99 given by the\n",
        "# students\n",
        "hist(df$Nombre2, breaks = breaks, main = \"Histogramme de la variable Nombre2\", xlab = \"Nombre2\", ylab = \"Fréquence\")"
      ]
    },
    {
      "cell_type": "code",
      "execution_count": null,
      "metadata": {},
      "outputs": [],
      "source": [
        "# Give the contingency table for the factors Group (Demi) and Sex.\n",
        "table(df$Demi, df$Sexe)"
      ]
    },
    {
      "cell_type": "code",
      "execution_count": null,
      "metadata": {},
      "outputs": [],
      "source": [
        "# Calculate the covariance between the first random number (Nombre1) and the second (Nombre2).\n",
        "cov(df$Nombre1, df$Nombre2, use = \"complete.obs\")"
      ]
    },
    {
      "cell_type": "code",
      "execution_count": null,
      "metadata": {},
      "outputs": [],
      "source": [
        "# Calculate the correlation coefficient between the first random number (Nombre1)   and the second (Nombre2).\n",
        "cor(df$Nombre1, df$Nombre2, use = \"complete.obs\")"
      ]
    },
    {
      "cell_type": "code",
      "execution_count": null,
      "metadata": {},
      "outputs": [],
      "source": [
        "# Calculate the correlation coefficient between the first random number (Nombre1)   and the second (Nombre2).\n",
        "cor(df$Poids, df$Taille, use = \"complete.obs\")"
      ]
    },
    {
      "cell_type": "code",
      "execution_count": null,
      "metadata": {},
      "outputs": [],
      "source": [
        "# Sort the dataframe by the column \"Poids\"\n",
        "df[order(df$Poids),]"
      ]
    },
    {
      "cell_type": "code",
      "execution_count": null,
      "metadata": {},
      "outputs": [],
      "source": [
        "# Sort the dataframe by the column \"Poids\" in decreasing order\n",
        "df[order(df$Poids, decreasing = TRUE),]"
      ]
    },
    {
      "cell_type": "code",
      "execution_count": null,
      "metadata": {},
      "outputs": [],
      "source": [
        "# Sort the dataframe by the column \"Poids\" and \"Taille\"\n",
        "df[order(df$Poids, df$Taille),]"
      ]
    },
    {
      "cell_type": "code",
      "execution_count": null,
      "metadata": {},
      "outputs": [],
      "source": [
        "# Sort the dataframe by the column \"Poids\" and \"Taille\" in decreasing order\n",
        "df[order(df$Poids, df$Taille, decreasing = TRUE),]"
      ]
    }
  ],
  "metadata": {
    "colab": {
      "private_outputs": true,
      "provenance": [],
      "toc_visible": true
    },
    "kernelspec": {
      "display_name": ".venv",
      "language": "python",
      "name": "python3"
    },
    "language_info": {
      "name": "python",
      "version": "3.10.12"
    }
  },
  "nbformat": 4,
  "nbformat_minor": 0
}

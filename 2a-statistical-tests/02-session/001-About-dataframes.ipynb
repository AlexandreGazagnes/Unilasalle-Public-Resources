{
 "cells": [
  {
   "cell_type": "markdown",
   "metadata": {},
   "source": [
    "#   TP 02 - About Data Frames - 1/2\n",
    "* Written by Alexandre Gazagnes\n",
    "* Last update: 2024-02-01\n",
    "* Based on https://www.w3schools.com/r/default.asp"
   ]
  },
  {
   "cell_type": "markdown",
   "metadata": {},
   "source": [
    "## Vectors"
   ]
  },
  {
   "cell_type": "code",
   "execution_count": null,
   "metadata": {},
   "outputs": [],
   "source": [
    "# Create vectors\n",
    "countries = c(\"France\", \"Suisse\", \"Espagne\", \"Norway\")\n",
    "ue = c(\"Oui\", \"Non\", \"Oui\", \"Non\")\n",
    "pop = c(66000, 8000, 48000, 5000)\n",
    "super = c(643, 41, 505, 323)"
   ]
  },
  {
   "cell_type": "markdown",
   "metadata": {},
   "source": [
    "## Creating DataFrame"
   ]
  },
  {
   "cell_type": "code",
   "execution_count": null,
   "metadata": {},
   "outputs": [],
   "source": [
    "# Build the data frame\n",
    "df = data.frame(UE=ue, population=pop, superficie=super, row.names =countries )\n",
    "df"
   ]
  },
  {
   "cell_type": "code",
   "execution_count": null,
   "metadata": {},
   "outputs": [],
   "source": [
    "# Using str\n",
    "str(df)  # compact display of the structure of an R object"
   ]
  },
  {
   "cell_type": "markdown",
   "metadata": {},
   "source": [
    "## Accessing to elements"
   ]
  },
  {
   "cell_type": "code",
   "execution_count": null,
   "metadata": {},
   "outputs": [],
   "source": [
    "# Head and tail\n",
    "head(df, 2)  # first 2 rows"
   ]
  },
  {
   "cell_type": "code",
   "execution_count": null,
   "metadata": {},
   "outputs": [],
   "source": [
    "tail(df, 2)  # last 2 rows"
   ]
  },
  {
   "cell_type": "code",
   "execution_count": null,
   "metadata": {},
   "outputs": [],
   "source": [
    "sample(df, 2)  # random 2 rows"
   ]
  },
  {
   "cell_type": "code",
   "execution_count": null,
   "metadata": {},
   "outputs": [],
   "source": [
    "# Access to specific elements\n",
    "df[2,3] # 2nd row, 3rd column\n",
    "df[2,] # 2nd row, all columns\n",
    "df[,3] # all rows, 3rd column\n",
    "df[,] # all rows, all columns"
   ]
  },
  {
   "cell_type": "code",
   "execution_count": null,
   "metadata": {},
   "outputs": [],
   "source": [
    "row_index = c(1, 3)  # => [1, 3]\n",
    "col_index = c(1, 3)  # => [1, 3]\n",
    "df[row_index, col_index]  # 1st and 3rd rows, 1st and 3rd columns"
   ]
  },
  {
   "cell_type": "code",
   "execution_count": null,
   "metadata": {},
   "outputs": [],
   "source": [
    "row_index = c(3, 1)  # => [1, 3]\n",
    "col_index = c(1, 3)  # => [1, 3]\n",
    "df[row_index, col_index]  # 1st and 3rd rows, 1st and 3rd columns"
   ]
  },
  {
   "cell_type": "code",
   "execution_count": null,
   "metadata": {},
   "outputs": [],
   "source": [
    "df[c(1, 4), c(1, 4)]  # 1st and 4th rows, 1st and 4th columns => error !"
   ]
  },
  {
   "cell_type": "code",
   "execution_count": null,
   "metadata": {},
   "outputs": [],
   "source": [
    "df[1:3]  # 1st to 3rd columns\n",
    "\n",
    "df[1:2, 1:2]  # 1st to 2nd rows, 1st to 2nd columns"
   ]
  },
  {
   "cell_type": "code",
   "execution_count": null,
   "metadata": {},
   "outputs": [],
   "source": [
    "df[\"France\",]  # all columns of France\n",
    "df[\"France\"]  # all columns of France"
   ]
  },
  {
   "cell_type": "code",
   "execution_count": null,
   "metadata": {},
   "outputs": [],
   "source": [
    "df[\"France\", \"population\"] # population of France\n",
    "df[, \"population\"] # population of all countries"
   ]
  },
  {
   "cell_type": "code",
   "execution_count": null,
   "metadata": {},
   "outputs": [],
   "source": [
    "# Access to specific colomns\n",
    "df.population # error :(\n",
    "df$population # ok"
   ]
  },
  {
   "cell_type": "code",
   "execution_count": null,
   "metadata": {},
   "outputs": [],
   "source": [
    "## Addind / Deleting / Modifiyng Values"
   ]
  },
  {
   "cell_type": "code",
   "execution_count": null,
   "metadata": {},
   "outputs": [],
   "source": [
    "# Adding a new column\n",
    "df$capitale = c(\"Paris\", \"Berne\", \"Madrid\", \"Oslo\") \n",
    "df"
   ]
  },
  {
   "cell_type": "code",
   "execution_count": null,
   "metadata": {},
   "outputs": [],
   "source": [
    "# Adding a new column\n",
    "df$dummy = c(\"foo\", \"bar\", \"tree\", \"tom\")\n",
    "df"
   ]
  },
  {
   "cell_type": "code",
   "execution_count": null,
   "metadata": {},
   "outputs": [],
   "source": [
    "# Delete a column\n",
    "df$dummy = NULL \n",
    "df"
   ]
  },
  {
   "cell_type": "code",
   "execution_count": null,
   "metadata": {},
   "outputs": [],
   "source": [
    "# Delete a column\n",
    "df$dummy = c(\"foo\", \"bar\", \"tree\", \"tom\")\n",
    "df = df[, -5] # delete the 5th column\n",
    "df"
   ]
  },
  {
   "cell_type": "code",
   "execution_count": null,
   "metadata": {},
   "outputs": [],
   "source": [
    "# What about ?\n",
    "df$dummy=NA"
   ]
  },
  {
   "cell_type": "code",
   "execution_count": null,
   "metadata": {},
   "outputs": [],
   "source": [
    "# delete a row\n",
    "df[-2,]  # delete the 2nd row\n",
    "df"
   ]
  },
  {
   "cell_type": "code",
   "execution_count": null,
   "metadata": {},
   "outputs": [],
   "source": [
    "df[-c(2, 3),]  # delete the 2nd and 3rd rows\n",
    "df"
   ]
  },
  {
   "cell_type": "code",
   "execution_count": null,
   "metadata": {},
   "outputs": [],
   "source": [
    "# Modifying a value\n",
    "df[1, 1] = \"Maybe\"  # change the value of the 1st row, 1st column\n",
    "df"
   ]
  },
  {
   "cell_type": "markdown",
   "metadata": {},
   "source": [
    "## Filtering"
   ]
  },
  {
   "cell_type": "code",
   "execution_count": null,
   "metadata": {},
   "outputs": [],
   "source": [
    "# Using an indexor\n",
    "row_indexor = (df$UE == \"Oui\")\n",
    "df[row_indexor,] # only countries in the UE\n",
    "df"
   ]
  },
  {
   "cell_type": "code",
   "execution_count": null,
   "metadata": {},
   "outputs": [],
   "source": [
    "# The oposite\n",
    "df[!row_indexor,] # only countries not in the UE"
   ]
  },
  {
   "cell_type": "code",
   "execution_count": null,
   "metadata": {},
   "outputs": [],
   "source": [
    "# Better : \n",
    "df[df$UE == \"Oui\",]"
   ]
  },
  {
   "cell_type": "code",
   "execution_count": null,
   "metadata": {},
   "outputs": [],
   "source": [
    "# Using Subset\n",
    "df[df$population > 10000,]  # only countries with a population > 10000\n",
    "df # do  or do not work ?"
   ]
  },
  {
   "cell_type": "code",
   "execution_count": null,
   "metadata": {},
   "outputs": [],
   "source": [
    "# Better :\n",
    "tmp = subset(df, population > 10000)  # only countries with a population > 10000\n",
    "tmp  # do works"
   ]
  },
  {
   "cell_type": "code",
   "execution_count": null,
   "metadata": {},
   "outputs": [],
   "source": [
    "# Better :\n",
    "tmp = subset(\n",
    "    df, population > 10000, select=c(\"UE\", \"population\")\n",
    ")  # only countries with a population > 10000\n",
    "tmp  # do works"
   ]
  },
  {
   "cell_type": "markdown",
   "metadata": {},
   "source": [
    "## Answers"
   ]
  },
  {
   "cell_type": "code",
   "execution_count": null,
   "metadata": {},
   "outputs": [],
   "source": [
    "# Population of espana\n",
    "df[\"Espagne\", \"population\"]  # population of Espana\n",
    "# df[rownames(df) == \"Espagne\", \"population\"] # population of Espana"
   ]
  },
  {
   "cell_type": "code",
   "execution_count": null,
   "metadata": {},
   "outputs": [],
   "source": [
    "# Population and superficie of 3 first countries\n",
    "df[1:3, c(\"population\", \"superficie\")]  # population and superficie of 3 first countries"
   ]
  },
  {
   "cell_type": "code",
   "execution_count": null,
   "metadata": {},
   "outputs": [],
   "source": [
    "# Add new col number of habitants per km2\n",
    "df$hab_km2 = df$population / df$superficie # compute the number of habitants per km2\n",
    "df"
   ]
  },
  {
   "cell_type": "code",
   "execution_count": null,
   "metadata": {},
   "outputs": [],
   "source": [
    "# Better :) \n",
    "df$hab_km2 = round(df$population / df$superficie, 2) # compute the number of habitants per km2\n",
    "df"
   ]
  },
  {
   "cell_type": "code",
   "execution_count": null,
   "metadata": {},
   "outputs": [],
   "source": [
    "# Cols 2,3,4 of UE countries\n",
    "row_indexor = (df$UE == \"Oui\")\n",
    "column_indexor = c(2,3,4)\n",
    "df[row_indexor, column_indexor] # cols 2,3,4 of UE countries"
   ]
  }
 ],
 "metadata": {
  "colab": {
   "private_outputs": true,
   "provenance": [],
   "toc_visible": true
  },
  "kernelspec": {
   "display_name": ".venv",
   "language": "python",
   "name": "python3"
  },
  "language_info": {
   "name": "python",
   "version": "3.10.12"
  }
 },
 "nbformat": 4,
 "nbformat_minor": 0
}
